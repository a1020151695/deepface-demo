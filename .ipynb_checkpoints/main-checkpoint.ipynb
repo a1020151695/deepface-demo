{
 "cells": [
  {
   "cell_type": "code",
   "execution_count": 1,
   "id": "11ea4ac8",
   "metadata": {},
   "outputs": [],
   "source": [
    "from deepface import DeepFace"
   ]
  },
  {
   "cell_type": "code",
   "execution_count": 49,
   "id": "023876f8",
   "metadata": {},
   "outputs": [],
   "source": [
    "img1_path = \"./db/img1.jpg\"\n",
    "img2_path = \"./db/img3.jpg\"\n",
    "models = [\"VGG-Face\", \"Facenet\", \"Facenet512\", \"OpenFace\", \"DeepFace\", \"DeepID\", \"ArcFace\", \"Dlib\"]"
   ]
  },
  {
   "cell_type": "code",
   "execution_count": 53,
   "id": "3de58e83",
   "metadata": {},
   "outputs": [
    {
     "data": {
      "text/plain": [
       "{'verified': True,\n",
       " 'distance': 0.17408052594816548,\n",
       " 'max_threshold_to_verify': 0.4,\n",
       " 'model': 'Facenet',\n",
       " 'similarity_metric': 'cosine'}"
      ]
     },
     "execution_count": 53,
     "metadata": {},
     "output_type": "execute_result"
    }
   ],
   "source": [
    "result = DeepFace.verify(img1_path = img1_path, img2_path = img2_path, model_name= \"Facenet\", enforce_detection= False)\n",
    "result"
   ]
  },
  {
   "cell_type": "code",
   "execution_count": 52,
   "id": "90aefcaf",
   "metadata": {},
   "outputs": [
    {
     "name": "stdout",
     "output_type": "stream",
     "text": [
      "Representations stored in  ./db/ / representations_facenet.pkl  file. Please delete this file when you add new identities in your database.\n",
      "find function lasts  0.4583883285522461  seconds\n"
     ]
    },
    {
     "data": {
      "text/html": [
       "<div>\n",
       "<style scoped>\n",
       "    .dataframe tbody tr th:only-of-type {\n",
       "        vertical-align: middle;\n",
       "    }\n",
       "\n",
       "    .dataframe tbody tr th {\n",
       "        vertical-align: top;\n",
       "    }\n",
       "\n",
       "    .dataframe thead th {\n",
       "        text-align: right;\n",
       "    }\n",
       "</style>\n",
       "<table border=\"1\" class=\"dataframe\">\n",
       "  <thead>\n",
       "    <tr style=\"text-align: right;\">\n",
       "      <th></th>\n",
       "      <th>identity</th>\n",
       "      <th>Facenet_cosine</th>\n",
       "    </tr>\n",
       "  </thead>\n",
       "  <tbody>\n",
       "    <tr>\n",
       "      <th>0</th>\n",
       "      <td>./db//img1.jpg</td>\n",
       "      <td>-2.220446e-16</td>\n",
       "    </tr>\n",
       "    <tr>\n",
       "      <th>1</th>\n",
       "      <td>./db//img3.jpg</td>\n",
       "      <td>1.740805e-01</td>\n",
       "    </tr>\n",
       "  </tbody>\n",
       "</table>\n",
       "</div>"
      ],
      "text/plain": [
       "         identity  Facenet_cosine\n",
       "0  ./db//img1.jpg   -2.220446e-16\n",
       "1  ./db//img3.jpg    1.740805e-01"
      ]
     },
     "execution_count": 52,
     "metadata": {},
     "output_type": "execute_result"
    }
   ],
   "source": [
    "res = DeepFace.find(img_path = img1_path, db_path= \"./db/\", model_name=models[1], enforce_detection= False)\n",
    "res"
   ]
  },
  {
   "cell_type": "code",
   "execution_count": 42,
   "id": "280b1a25",
   "metadata": {},
   "outputs": [
    {
     "data": {
      "text/plain": [
       "identity          ./db//img3.jpg\n",
       "Facenet_cosine          0.174081\n",
       "Name: 1, dtype: object"
      ]
     },
     "execution_count": 42,
     "metadata": {},
     "output_type": "execute_result"
    }
   ],
   "source": [
    "res.loc[1]"
   ]
  },
  {
   "cell_type": "code",
   "execution_count": 17,
   "id": "d24972b9",
   "metadata": {},
   "outputs": [
    {
     "data": {
      "text/plain": [
       "0.17408052594816548"
      ]
     },
     "execution_count": 17,
     "metadata": {},
     "output_type": "execute_result"
    }
   ],
   "source": [
    "res.loc[1][1]"
   ]
  },
  {
   "cell_type": "code",
   "execution_count": 21,
   "id": "5aedbce2",
   "metadata": {},
   "outputs": [
    {
     "data": {
      "text/plain": [
       "0   -2.220446e-16\n",
       "1    1.740805e-01\n",
       "Name: Facenet_cosine, dtype: float64"
      ]
     },
     "execution_count": 21,
     "metadata": {},
     "output_type": "execute_result"
    }
   ],
   "source": [
    "similar_rates = res['Facenet_cosine']\n",
    "similar_rates"
   ]
  },
  {
   "cell_type": "code",
   "execution_count": 19,
   "id": "1bcf5762",
   "metadata": {},
   "outputs": [
    {
     "data": {
      "text/plain": [
       "pandas.core.series.Series"
      ]
     },
     "execution_count": 19,
     "metadata": {},
     "output_type": "execute_result"
    }
   ],
   "source": [
    "type(res['Facenet_cosine'])"
   ]
  },
  {
   "cell_type": "code",
   "execution_count": 25,
   "id": "61bcee97",
   "metadata": {},
   "outputs": [
    {
     "data": {
      "text/plain": [
       "1    0.174081\n",
       "Name: Facenet_cosine, dtype: float64"
      ]
     },
     "execution_count": 25,
     "metadata": {},
     "output_type": "execute_result"
    }
   ],
   "source": [
    "similar_rates[similar_rates<2][similar_rates>0]"
   ]
  },
  {
   "cell_type": "code",
   "execution_count": 28,
   "id": "a56869ae",
   "metadata": {},
   "outputs": [
    {
     "data": {
      "text/plain": [
       "1"
      ]
     },
     "execution_count": 28,
     "metadata": {},
     "output_type": "execute_result"
    }
   ],
   "source": [
    "len(similar_rates[similar_rates<2][similar_rates>0])"
   ]
  },
  {
   "cell_type": "code",
   "execution_count": null,
   "id": "a353f89c",
   "metadata": {},
   "outputs": [],
   "source": []
  }
 ],
 "metadata": {
  "kernelspec": {
   "display_name": "Python 3 (ipykernel)",
   "language": "python",
   "name": "python3"
  },
  "language_info": {
   "codemirror_mode": {
    "name": "ipython",
    "version": 3
   },
   "file_extension": ".py",
   "mimetype": "text/x-python",
   "name": "python",
   "nbconvert_exporter": "python",
   "pygments_lexer": "ipython3",
   "version": "3.9.7"
  }
 },
 "nbformat": 4,
 "nbformat_minor": 5
}
